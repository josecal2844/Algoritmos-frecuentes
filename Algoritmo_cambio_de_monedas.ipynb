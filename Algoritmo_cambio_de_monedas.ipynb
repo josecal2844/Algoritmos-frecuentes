{
  "nbformat": 4,
  "nbformat_minor": 0,
  "metadata": {
    "colab": {
      "provenance": []
    },
    "kernelspec": {
      "name": "python3",
      "display_name": "Python 3"
    },
    "language_info": {
      "name": "python"
    }
  },
  "cells": [
    {
      "cell_type": "markdown",
      "source": [
        "# Problema del cambio de monedas\n",
        "\n",
        "Ante los problemas presentados por los algoritmos voraces a la hora de resolver esta cuestión, buscamos una solución en la programación dinámica [1]."
      ],
      "metadata": {
        "id": "4sJB-Oi5lxw5"
      }
    },
    {
      "cell_type": "markdown",
      "source": [
        "Primera versión del algoritmo, buscamos la cantidad de monedas que minimiza las monedas a devolver en el cambio."
      ],
      "metadata": {
        "id": "Z4_GQ7Fhl3dA"
      }
    },
    {
      "cell_type": "code",
      "execution_count": 1,
      "metadata": {
        "colab": {
          "base_uri": "https://localhost:8080/"
        },
        "id": "HjYuuw_lZesn",
        "outputId": "3cc5fc36-c03c-448b-cf4c-84b1f48cd9ac"
      },
      "outputs": [
        {
          "output_type": "stream",
          "name": "stdout",
          "text": [
            "Mínimo número de monedas: 3\n"
          ]
        }
      ],
      "source": [
        "def cambio_monedas(monedas, cantidad):\n",
        "    # Inicializamos el array dp con un valor muy alto\n",
        "    dp = [float('inf')] * (cantidad + 1)\n",
        "    dp[0] = 0  # Caso base\n",
        "\n",
        "    # Iteramos sobre todas las cantidades desde 1 hasta cantidad\n",
        "    for i in range(1, cantidad + 1):\n",
        "        for moneda in monedas:\n",
        "            if i >= moneda:  # Si la moneda puede ser utilizada\n",
        "                dp[i] = min(dp[i], dp[i - moneda] + 1)\n",
        "\n",
        "    # Si no es posible devolver cambio, devolvemos -1\n",
        "    return dp[cantidad] if dp[cantidad] != float('inf') else -1\n",
        "\n",
        "monedas = [1, 5, 11]\n",
        "cantidad = 15\n",
        "print(\"Mínimo número de monedas:\", cambio_monedas(monedas, cantidad))"
      ]
    },
    {
      "cell_type": "markdown",
      "source": [
        "Segunda versión del algoritmo. Mejoramos la información ofreciendo tanto la cantidad de monedas necesarias como el valor de esas monedas."
      ],
      "metadata": {
        "id": "1zS2q2mhmgQJ"
      }
    },
    {
      "cell_type": "code",
      "source": [
        "def cambio_monedas_con_detalle(monedas, cantidad):\n",
        "    # Inicializamos el array dp con un valor muy alto\n",
        "    dp = [float('inf')] * (cantidad + 1)\n",
        "    dp[0] = 0  # Caso base\n",
        "\n",
        "    # Array para rastrear qué moneda se usó en cada paso\n",
        "    moneda_usada = [-1] * (cantidad + 1)\n",
        "\n",
        "    # Iteramos sobre todas las cantidades desde 1 hasta cantidad\n",
        "    for i in range(1, cantidad + 1):\n",
        "        for moneda in monedas:\n",
        "            if i >= moneda:  # Si la moneda puede ser utilizada\n",
        "                if dp[i - moneda] + 1 < dp[i]:\n",
        "                    dp[i] = dp[i - moneda] + 1\n",
        "                    moneda_usada[i] = moneda  # Guardamos la moneda usada\n",
        "\n",
        "    # Si no es posible devolver cambio, devolvemos -1\n",
        "    if dp[cantidad] == float('inf'):\n",
        "        return -1, []\n",
        "\n",
        "    # Reconstruir el detalle de las monedas usadas\n",
        "    monedas_usadas = []\n",
        "    actual = cantidad\n",
        "    while actual > 0:\n",
        "        monedas_usadas.append(moneda_usada[actual])\n",
        "        actual -= moneda_usada[actual]\n",
        "\n",
        "    return dp[cantidad], monedas_usadas\n",
        "\n",
        "# Ejemplo\n",
        "monedas = [10, 5, 11]\n",
        "cantidad = 15\n",
        "num_monedas, detalle_monedas = cambio_monedas_con_detalle(monedas, cantidad)\n",
        "\n",
        "print(\"Mínimo número de monedas:\", num_monedas)\n",
        "print(\"Monedas utilizadas:\", detalle_monedas)\n"
      ],
      "metadata": {
        "colab": {
          "base_uri": "https://localhost:8080/"
        },
        "id": "UMj9BsQYgUoV",
        "outputId": "8dae1898-4ef4-48d9-a5bc-917f38a48163"
      },
      "execution_count": 3,
      "outputs": [
        {
          "output_type": "stream",
          "name": "stdout",
          "text": [
            "Mínimo número de monedas: 2\n",
            "Monedas utilizadas: [10, 5]\n"
          ]
        }
      ]
    },
    {
      "cell_type": "markdown",
      "source": [
        "## Referencias\n",
        "\n",
        "[1] Maurette, M., & Ojea, I. (2006). Programacion dinámica. Monografía. Universidad de buenos Aires.\n",
        "\n",
        "[2] Iturbide, J. Á. V., & Losada, I. H. Evaluación del Aprendizaje de la Programación Dinámica Usando Bosques de Recursión.\n",
        "\n",
        "[3] Saénz Rubio, B., & Velázquez Iturbide, Á. (2012). Revisión bibliográfica de algoritmos de programación dinámica."
      ],
      "metadata": {
        "id": "J71REHwiknRK"
      }
    }
  ]
}